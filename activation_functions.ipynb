{
  "nbformat": 4,
  "nbformat_minor": 0,
  "metadata": {
    "colab": {
      "provenance": [],
      "gpuType": "T4",
      "authorship_tag": "ABX9TyMtNniUv2E0shykP97ZlkG0",
      "include_colab_link": true
    },
    "kernelspec": {
      "name": "python3",
      "display_name": "Python 3"
    },
    "language_info": {
      "name": "python"
    },
    "accelerator": "GPU"
  },
  "cells": [
    {
      "cell_type": "markdown",
      "metadata": {
        "id": "view-in-github",
        "colab_type": "text"
      },
      "source": [
        "<a href=\"https://colab.research.google.com/github/Zyla00/udemy_python_bootcamp/blob/main/activation_functions.ipynb\" target=\"_parent\"><img src=\"https://colab.research.google.com/assets/colab-badge.svg\" alt=\"Open In Colab\"/></a>"
      ]
    },
    {
      "cell_type": "markdown",
      "source": [
        "**Sieci konwolucyjne** --> wymagają dużych mocy obliczeniowych, więc lepiej gpu nie cpu, w runtime zmienić na gpu (change runtime type). W Colab można używać latex"
      ],
      "metadata": {
        "id": "QHzv4LEmCJw_"
      }
    },
    {
      "cell_type": "markdown",
      "source": [
        "## **Actiwation Functions**\n",
        "\n",
        "### ReLU Function\n",
        "\n",
        "Wzór funkcji- definicja funkcji\n",
        "\n",
        "$f(x) = max(x,)$\n",
        "\n"
      ],
      "metadata": {
        "id": "UB9QDrQWC3g3"
      }
    },
    {
      "cell_type": "code",
      "execution_count": 33,
      "metadata": {
        "id": "vQXnPC3F_nEs"
      },
      "outputs": [],
      "source": [
        "import numpy as np #obliczenia numeryczne\n",
        "import matplotlib.pyplot as plt # do rysowania wykresów\n",
        "import seaborn as sns #ulepszenie wykresów, nakładka na matplotlib\n",
        "\n",
        "sns.set()\n"
      ]
    },
    {
      "cell_type": "code",
      "source": [
        "#zdefiniowana funkcja ReLU\n",
        "def max_relu(x):\n",
        "  return max (x,0)\n"
      ],
      "metadata": {
        "id": "G5nijW2SE4go"
      },
      "execution_count": 34,
      "outputs": []
    },
    {
      "cell_type": "code",
      "source": [
        "for i in [-10,-5,0,5,10]:\n",
        "  print(max_relu(i))"
      ],
      "metadata": {
        "colab": {
          "base_uri": "https://localhost:8080/"
        },
        "id": "3gDtQ05rFCXc",
        "outputId": "a0f96a6f-53df-45d8-f1c8-a486fd753272"
      },
      "execution_count": 35,
      "outputs": [
        {
          "output_type": "stream",
          "name": "stdout",
          "text": [
            "0\n",
            "0\n",
            "0\n",
            "5\n",
            "10\n"
          ]
        }
      ]
    },
    {
      "cell_type": "code",
      "source": [
        "data=np.arange(-5,5,0.1)\n",
        "data"
      ],
      "metadata": {
        "colab": {
          "base_uri": "https://localhost:8080/"
        },
        "id": "7Zr_xAU9FY7b",
        "outputId": "afaddf82-06af-4261-9a2e-b6314b5961ab"
      },
      "execution_count": 36,
      "outputs": [
        {
          "output_type": "execute_result",
          "data": {
            "text/plain": [
              "array([-5.00000000e+00, -4.90000000e+00, -4.80000000e+00, -4.70000000e+00,\n",
              "       -4.60000000e+00, -4.50000000e+00, -4.40000000e+00, -4.30000000e+00,\n",
              "       -4.20000000e+00, -4.10000000e+00, -4.00000000e+00, -3.90000000e+00,\n",
              "       -3.80000000e+00, -3.70000000e+00, -3.60000000e+00, -3.50000000e+00,\n",
              "       -3.40000000e+00, -3.30000000e+00, -3.20000000e+00, -3.10000000e+00,\n",
              "       -3.00000000e+00, -2.90000000e+00, -2.80000000e+00, -2.70000000e+00,\n",
              "       -2.60000000e+00, -2.50000000e+00, -2.40000000e+00, -2.30000000e+00,\n",
              "       -2.20000000e+00, -2.10000000e+00, -2.00000000e+00, -1.90000000e+00,\n",
              "       -1.80000000e+00, -1.70000000e+00, -1.60000000e+00, -1.50000000e+00,\n",
              "       -1.40000000e+00, -1.30000000e+00, -1.20000000e+00, -1.10000000e+00,\n",
              "       -1.00000000e+00, -9.00000000e-01, -8.00000000e-01, -7.00000000e-01,\n",
              "       -6.00000000e-01, -5.00000000e-01, -4.00000000e-01, -3.00000000e-01,\n",
              "       -2.00000000e-01, -1.00000000e-01, -1.77635684e-14,  1.00000000e-01,\n",
              "        2.00000000e-01,  3.00000000e-01,  4.00000000e-01,  5.00000000e-01,\n",
              "        6.00000000e-01,  7.00000000e-01,  8.00000000e-01,  9.00000000e-01,\n",
              "        1.00000000e+00,  1.10000000e+00,  1.20000000e+00,  1.30000000e+00,\n",
              "        1.40000000e+00,  1.50000000e+00,  1.60000000e+00,  1.70000000e+00,\n",
              "        1.80000000e+00,  1.90000000e+00,  2.00000000e+00,  2.10000000e+00,\n",
              "        2.20000000e+00,  2.30000000e+00,  2.40000000e+00,  2.50000000e+00,\n",
              "        2.60000000e+00,  2.70000000e+00,  2.80000000e+00,  2.90000000e+00,\n",
              "        3.00000000e+00,  3.10000000e+00,  3.20000000e+00,  3.30000000e+00,\n",
              "        3.40000000e+00,  3.50000000e+00,  3.60000000e+00,  3.70000000e+00,\n",
              "        3.80000000e+00,  3.90000000e+00,  4.00000000e+00,  4.10000000e+00,\n",
              "        4.20000000e+00,  4.30000000e+00,  4.40000000e+00,  4.50000000e+00,\n",
              "        4.60000000e+00,  4.70000000e+00,  4.80000000e+00,  4.90000000e+00])"
            ]
          },
          "metadata": {},
          "execution_count": 36
        }
      ]
    },
    {
      "cell_type": "markdown",
      "source": [
        "List comprehention, zastępowanie pętli for, umożliwia szybkie stworzenie listy na podstawie już istniejącej listy\n",
        "\n",
        "$<nowalista> = [<operacja><pętla><warunek>]$"
      ],
      "metadata": {
        "id": "ibAMT5JJN5iW"
      }
    },
    {
      "cell_type": "code",
      "source": [
        "max_relu_data = [max_relu(x) for x in data ] # list comprehention\n",
        "max_relu_data"
      ],
      "metadata": {
        "colab": {
          "base_uri": "https://localhost:8080/"
        },
        "id": "jfGVE6hFFi9w",
        "outputId": "9a46a23d-fd49-4368-b192-592456e75758"
      },
      "execution_count": 37,
      "outputs": [
        {
          "output_type": "execute_result",
          "data": {
            "text/plain": [
              "[0,\n",
              " 0,\n",
              " 0,\n",
              " 0,\n",
              " 0,\n",
              " 0,\n",
              " 0,\n",
              " 0,\n",
              " 0,\n",
              " 0,\n",
              " 0,\n",
              " 0,\n",
              " 0,\n",
              " 0,\n",
              " 0,\n",
              " 0,\n",
              " 0,\n",
              " 0,\n",
              " 0,\n",
              " 0,\n",
              " 0,\n",
              " 0,\n",
              " 0,\n",
              " 0,\n",
              " 0,\n",
              " 0,\n",
              " 0,\n",
              " 0,\n",
              " 0,\n",
              " 0,\n",
              " 0,\n",
              " 0,\n",
              " 0,\n",
              " 0,\n",
              " 0,\n",
              " 0,\n",
              " 0,\n",
              " 0,\n",
              " 0,\n",
              " 0,\n",
              " 0,\n",
              " 0,\n",
              " 0,\n",
              " 0,\n",
              " 0,\n",
              " 0,\n",
              " 0,\n",
              " 0,\n",
              " 0,\n",
              " 0,\n",
              " 0,\n",
              " 0.09999999999998188,\n",
              " 0.19999999999998153,\n",
              " 0.29999999999998117,\n",
              " 0.3999999999999808,\n",
              " 0.49999999999998046,\n",
              " 0.5999999999999801,\n",
              " 0.6999999999999797,\n",
              " 0.7999999999999794,\n",
              " 0.899999999999979,\n",
              " 0.9999999999999787,\n",
              " 1.0999999999999783,\n",
              " 1.199999999999978,\n",
              " 1.2999999999999776,\n",
              " 1.3999999999999773,\n",
              " 1.499999999999977,\n",
              " 1.5999999999999766,\n",
              " 1.6999999999999762,\n",
              " 1.7999999999999758,\n",
              " 1.8999999999999755,\n",
              " 1.9999999999999751,\n",
              " 2.0999999999999748,\n",
              " 2.1999999999999744,\n",
              " 2.299999999999974,\n",
              " 2.3999999999999737,\n",
              " 2.4999999999999734,\n",
              " 2.599999999999973,\n",
              " 2.6999999999999726,\n",
              " 2.7999999999999723,\n",
              " 2.899999999999972,\n",
              " 2.9999999999999716,\n",
              " 3.0999999999999712,\n",
              " 3.199999999999971,\n",
              " 3.2999999999999705,\n",
              " 3.39999999999997,\n",
              " 3.49999999999997,\n",
              " 3.5999999999999694,\n",
              " 3.699999999999969,\n",
              " 3.7999999999999687,\n",
              " 3.8999999999999684,\n",
              " 3.999999999999968,\n",
              " 4.099999999999968,\n",
              " 4.199999999999967,\n",
              " 4.299999999999967,\n",
              " 4.399999999999967,\n",
              " 4.499999999999966,\n",
              " 4.599999999999966,\n",
              " 4.6999999999999655,\n",
              " 4.799999999999965,\n",
              " 4.899999999999965]"
            ]
          },
          "metadata": {},
          "execution_count": 37
        }
      ]
    },
    {
      "cell_type": "code",
      "source": [
        "plt.plot(data,max_relu_data, )\n",
        "plt.title('ReLU Function')"
      ],
      "metadata": {
        "colab": {
          "base_uri": "https://localhost:8080/",
          "height": 474
        },
        "id": "DUU2s765F6bH",
        "outputId": "68070295-e663-4a52-e417-a1db754252e2"
      },
      "execution_count": 38,
      "outputs": [
        {
          "output_type": "execute_result",
          "data": {
            "text/plain": [
              "Text(0.5, 1.0, 'ReLU Function')"
            ]
          },
          "metadata": {},
          "execution_count": 38
        },
        {
          "output_type": "display_data",
          "data": {
            "text/plain": [
              "<Figure size 640x480 with 1 Axes>"
            ],
            "image/png": "[encoded data removed]"
          },
          "metadata": {}
        }
      ]
    },
    {
      "cell_type": "code",
      "source": [
        "plt.plot(data,max_relu_data, \"c-\")"
      ],
      "metadata": {
        "colab": {
          "base_uri": "https://localhost:8080/",
          "height": 451
        },
        "id": "ueSQ61ZtGUPZ",
        "outputId": "6599abf3-ee1f-4349-9d57-80b1d343c9dd"
      },
      "execution_count": 39,
      "outputs": [
        {
          "output_type": "execute_result",
          "data": {
            "text/plain": [
              "[<matplotlib.lines.Line2D at 0x7b62c7e647f0>]"
            ]
          },
          "metadata": {},
          "execution_count": 39
        },
        {
          "output_type": "display_data",
          "data": {
            "text/plain": [
              "<Figure size 640x480 with 1 Axes>"
            ],
            "image/png": "[encoded data removed]"
          },
          "metadata": {}
        }
      ]
    },
    {
      "cell_type": "markdown",
      "source": [
        "## **Sigmoid Function**\n",
        "\n",
        "## $f(x)=\\frac{1}{1+e^{-x}}$"
      ],
      "metadata": {
        "id": "oh6UsNr5HR-i"
      }
    },
    {
      "cell_type": "code",
      "source": [
        "def sigmoid(x): # definicja funcji\n",
        "  return 1.0/(1.0+np.exp(-x)) # jak dzielimy to lepiej dodawać kropkę i zero,\n",
        "  # aby mieć pewność że jest interpretowane jako float a nie int"
      ],
      "metadata": {
        "id": "NEoJdb2THRsR"
      },
      "execution_count": 40,
      "outputs": []
    },
    {
      "cell_type": "code",
      "source": [
        "for i in [-5, -3, -1,0, 1, 35]:\n",
        "  print( sigmoid(i))"
      ],
      "metadata": {
        "colab": {
          "base_uri": "https://localhost:8080/"
        },
        "id": "qbFt_7aIIdPF",
        "outputId": "174e64be-0244-4cf8-b00f-e2d71c8705f1"
      },
      "execution_count": 41,
      "outputs": [
        {
          "output_type": "stream",
          "name": "stdout",
          "text": [
            "0.0066928509242848554\n",
            "0.04742587317756678\n",
            "0.2689414213699951\n",
            "0.5\n",
            "0.7310585786300049\n",
            "0.9999999999999993\n"
          ]
        }
      ]
    },
    {
      "cell_type": "markdown",
      "source": [
        "Dane wejściowe zbliżone do -5 po przejściu przez sigmoid są bliżone do 0, a dane wejściowe około 5 po pzrejściu przez sigmoid są zbliżone do 1. Funkcja spłaszcza wartości i możemy je traktować ja ko prawdopodobieństwa, wartość w 0 to 1/2???. Sigmoid jest funkcją rosnącą od -1 do 1"
      ],
      "metadata": {
        "id": "OgNKXGN0JGLC"
      }
    },
    {
      "cell_type": "code",
      "source": [
        "sigmoid_data = [sigmoid(x) for x in data]\n",
        "\n",
        "plt.plot(data, sigmoid_data, \"c-\")\n",
        "plt.title(\"Sigmoid Function\")\n"
      ],
      "metadata": {
        "colab": {
          "base_uri": "https://localhost:8080/",
          "height": 474
        },
        "id": "RKDsL66RJsI5",
        "outputId": "4d202ecf-3cac-4331-bdb8-b005c0f23443"
      },
      "execution_count": 42,
      "outputs": [
        {
          "output_type": "execute_result",
          "data": {
            "text/plain": [
              "Text(0.5, 1.0, 'Sigmoid Function')"
            ]
          },
          "metadata": {},
          "execution_count": 42
        },
        {
          "output_type": "display_data",
          "data": {
            "text/plain": [
              "<Figure size 640x480 with 1 Axes>"
            ],
            "image/png": "[encoded data removed]"
          },
          "metadata": {}
        }
      ]
    },
    {
      "cell_type": "markdown",
      "source": [
        "## **Softmax Function**\n",
        "[latex ](https://www.math.edu.pl/forum/latex)\n",
        "  ### $S(y_{i})=\\frac{e^y{i}}{\\sum_{j=1}^{i} e^y{j}}$\n",
        "\n",
        "  Szczególnie odnajduje zastosowanie w klasyfikacji wieloklasowej"
      ],
      "metadata": {
        "id": "XE2byVkCKdMk"
      }
    },
    {
      "cell_type": "code",
      "source": [
        "data=np.random.randn(3,5)\n",
        "data\n",
        "# dane wkłądane do sieci muszą być wystandaryzowane, lepiej sobie radzą wtedy"
      ],
      "metadata": {
        "colab": {
          "base_uri": "https://localhost:8080/"
        },
        "id": "AJT0HhZUP8im",
        "outputId": "58efb13f-1993-4d0c-b29e-32bc620991d5"
      },
      "execution_count": 43,
      "outputs": [
        {
          "output_type": "execute_result",
          "data": {
            "text/plain": [
              "array([[ 0.24809649, -1.57234122, -0.5914934 , -0.11280269, -0.29913535],\n",
              "       [ 0.57183882,  1.27208325,  0.79962117,  1.02696866, -0.11329731],\n",
              "       [ 0.77367131, -0.34120398, -0.0287335 ,  0.3018853 ,  0.36332552]])"
            ]
          },
          "metadata": {},
          "execution_count": 43
        }
      ]
    },
    {
      "cell_type": "code",
      "source": [
        "import pandas as pd\n",
        "df = pd.DataFrame(data)\n",
        "df"
      ],
      "metadata": {
        "colab": {
          "base_uri": "https://localhost:8080/",
          "height": 143
        },
        "id": "2ptfv6lVUU0m",
        "outputId": "043a936b-0fd6-467b-9d96-86dde436a3ec"
      },
      "execution_count": 44,
      "outputs": [
        {
          "output_type": "execute_result",
          "data": {
            "text/plain": [
              "          0         1         2         3         4\n",
              "0  0.248096 -1.572341 -0.591493 -0.112803 -0.299135\n",
              "1  0.571839  1.272083  0.799621  1.026969 -0.113297\n",
              "2  0.773671 -0.341204 -0.028733  0.301885  0.363326"
            ],
            "text/html": [
              "\n",
              "  <div id=\"df-5f6e8248-5476-4840-81c2-8414a6817155\" class=\"colab-df-container\">\n",
              "    <div>\n",
              "<style scoped>\n",
              "    .dataframe tbody tr th:only-of-type {\n",
              "        vertical-align: middle;\n",
              "    }\n",
              "\n",
              "    .dataframe tbody tr th {\n",
              "        vertical-align: top;\n",
              "    }\n",
              "\n",
              "    .dataframe thead th {\n",
              "        text-align: right;\n",
              "    }\n",
              "</style>\n",
              "<table border=\"1\" class=\"dataframe\">\n",
              "  <thead>\n",
              "    <tr style=\"text-align: right;\">\n",
              "      <th></th>\n",
              "      <th>0</th>\n",
              "      <th>1</th>\n",
              "      <th>2</th>\n",
              "      <th>3</th>\n",
              "      <th>4</th>\n",
              "    </tr>\n",
              "  </thead>\n",
              "  <tbody>\n",
              "    <tr>\n",
              "      <th>0</th>\n",
              "      <td>0.248096</td>\n",
              "      <td>-1.572341</td>\n",
              "      <td>-0.591493</td>\n",
              "      <td>-0.112803</td>\n",
              "      <td>-0.299135</td>\n",
              "    </tr>\n",
              "    <tr>\n",
              "      <th>1</th>\n",
              "      <td>0.571839</td>\n",
              "      <td>1.272083</td>\n",
              "      <td>0.799621</td>\n",
              "      <td>1.026969</td>\n",
              "      <td>-0.113297</td>\n",
              "    </tr>\n",
              "    <tr>\n",
              "      <th>2</th>\n",
              "      <td>0.773671</td>\n",
              "      <td>-0.341204</td>\n",
              "      <td>-0.028733</td>\n",
              "      <td>0.301885</td>\n",
              "      <td>0.363326</td>\n",
              "    </tr>\n",
              "  </tbody>\n",
              "</table>\n",
              "</div>\n",
              "    <div class=\"colab-df-buttons\">\n",
              "\n",
              "  <div class=\"colab-df-container\">\n",
              "    <button class=\"colab-df-convert\" onclick=\"convertToInteractive('df-5f6e8248-5476-4840-81c2-8414a6817155')\"\n",
              "            title=\"Convert this dataframe to an interactive table.\"\n",
              "            style=\"display:none;\">\n",
              "\n",
              "  <svg xmlns=\"http://www.w3.org/2000/svg\" height=\"24px\" viewBox=\"0 -960 960 960\">\n",
              "    <path d=\"M120-120v-720h720v720H120Zm60-500h600v-160H180v160Zm220 220h160v-160H400v160Zm0 220h160v-160H400v160ZM180-400h160v-160H180v160Zm440 0h160v-160H620v160ZM180-180h160v-160H180v160Zm440 0h160v-160H620v160Z\"/>\n",
              "  </svg>\n",
              "    </button>\n",
              "\n",
              "  <style>\n",
              "    .colab-df-container {\n",
              "      display:flex;\n",
              "      gap: 12px;\n",
              "    }\n",
              "\n",
              "    .colab-df-convert {\n",
              "      background-color: #E8F0FE;\n",
              "      border: none;\n",
              "      border-radius: 50%;\n",
              "      cursor: pointer;\n",
              "      display: none;\n",
              "      fill: #1967D2;\n",
              "      height: 32px;\n",
              "      padding: 0 0 0 0;\n",
              "      width: 32px;\n",
              "    }\n",
              "\n",
              "    .colab-df-convert:hover {\n",
              "      background-color: #E2EBFA;\n",
              "      box-shadow: 0px 1px 2px rgba(60, 64, 67, 0.3), 0px 1px 3px 1px rgba(60, 64, 67, 0.15);\n",
              "      fill: #174EA6;\n",
              "    }\n",
              "\n",
              "    .colab-df-buttons div {\n",
              "      margin-bottom: 4px;\n",
              "    }\n",
              "\n",
              "    [theme=dark] .colab-df-convert {\n",
              "      background-color: #3B4455;\n",
              "      fill: #D2E3FC;\n",
              "    }\n",
              "\n",
              "    [theme=dark] .colab-df-convert:hover {\n",
              "      background-color: #434B5C;\n",
              "      box-shadow: 0px 1px 3px 1px rgba(0, 0, 0, 0.15);\n",
              "      filter: drop-shadow(0px 1px 2px rgba(0, 0, 0, 0.3));\n",
              "      fill: #FFFFFF;\n",
              "    }\n",
              "  </style>\n",
              "\n",
              "    <script>\n",
              "      const buttonEl =\n",
              "        document.querySelector('#df-5f6e8248-5476-4840-81c2-8414a6817155 button.colab-df-convert');\n",
              "      buttonEl.style.display =\n",
              "        google.colab.kernel.accessAllowed ? 'block' : 'none';\n",
              "\n",
              "      async function convertToInteractive(key) {\n",
              "        const element = document.querySelector('#df-5f6e8248-5476-4840-81c2-8414a6817155');\n",
              "        const dataTable =\n",
              "          await google.colab.kernel.invokeFunction('convertToInteractive',\n",
              "                                                    [key], {});\n",
              "        if (!dataTable) return;\n",
              "\n",
              "        const docLinkHtml = 'Like what you see? Visit the ' +\n",
              "          '<a target=\"_blank\" href=https://colab.research.google.com/notebooks/data_table.ipynb>data table notebook</a>'\n",
              "          + ' to learn more about interactive tables.';\n",
              "        element.innerHTML = '';\n",
              "        dataTable['output_type'] = 'display_data';\n",
              "        await google.colab.output.renderOutput(dataTable, element);\n",
              "        const docLink = document.createElement('div');\n",
              "        docLink.innerHTML = docLinkHtml;\n",
              "        element.appendChild(docLink);\n",
              "      }\n",
              "    </script>\n",
              "  </div>\n",
              "\n",
              "\n",
              "<div id=\"df-7be7d623-9e8c-416e-956c-253406267067\">\n",
              "  <button class=\"colab-df-quickchart\" onclick=\"quickchart('df-7be7d623-9e8c-416e-956c-253406267067')\"\n",
              "            title=\"Suggest charts.\"\n",
              "            style=\"display:none;\">\n",
              "\n",
              "<svg xmlns=\"http://www.w3.org/2000/svg\" height=\"24px\"viewBox=\"0 0 24 24\"\n",
              "     width=\"24px\">\n",
              "    <g>\n",
              "        <path d=\"M19 3H5c-1.1 0-2 .9-2 2v14c0 1.1.9 2 2 2h14c1.1 0 2-.9 2-2V5c0-1.1-.9-2-2-2zM9 17H7v-7h2v7zm4 0h-2V7h2v10zm4 0h-2v-4h2v4z\"/>\n",
              "    </g>\n",
              "</svg>\n",
              "  </button>\n",
              "\n",
              "<style>\n",
              "  .colab-df-quickchart {\n",
              "      --bg-color: #E8F0FE;\n",
              "      --fill-color: #1967D2;\n",
              "      --hover-bg-color: #E2EBFA;\n",
              "      --hover-fill-color: #174EA6;\n",
              "      --disabled-fill-color: #AAA;\n",
              "      --disabled-bg-color: #DDD;\n",
              "  }\n",
              "\n",
              "  [theme=dark] .colab-df-quickchart {\n",
              "      --bg-color: #3B4455;\n",
              "      --fill-color: #D2E3FC;\n",
              "      --hover-bg-color: #434B5C;\n",
              "      --hover-fill-color: #FFFFFF;\n",
              "      --disabled-bg-color: #3B4455;\n",
              "      --disabled-fill-color: #666;\n",
              "  }\n",
              "\n",
              "  .colab-df-quickchart {\n",
              "    background-color: var(--bg-color);\n",
              "    border: none;\n",
              "    border-radius: 50%;\n",
              "    cursor: pointer;\n",
              "    display: none;\n",
              "    fill: var(--fill-color);\n",
              "    height: 32px;\n",
              "    padding: 0;\n",
              "    width: 32px;\n",
              "  }\n",
              "\n",
              "  .colab-df-quickchart:hover {\n",
              "    background-color: var(--hover-bg-color);\n",
              "    box-shadow: 0 1px 2px rgba(60, 64, 67, 0.3), 0 1px 3px 1px rgba(60, 64, 67, 0.15);\n",
              "    fill: var(--button-hover-fill-color);\n",
              "  }\n",
              "\n",
              "  .colab-df-quickchart-complete:disabled,\n",
              "  .colab-df-quickchart-complete:disabled:hover {\n",
              "    background-color: var(--disabled-bg-color);\n",
              "    fill: var(--disabled-fill-color);\n",
              "    box-shadow: none;\n",
              "  }\n",
              "\n",
              "  .colab-df-spinner {\n",
              "    border: 2px solid var(--fill-color);\n",
              "    border-color: transparent;\n",
              "    border-bottom-color: var(--fill-color);\n",
              "    animation:\n",
              "      spin 1s steps(1) infinite;\n",
              "  }\n",
              "\n",
              "  @keyframes spin {\n",
              "    0% {\n",
              "      border-color: transparent;\n",
              "      border-bottom-color: var(--fill-color);\n",
              "      border-left-color: var(--fill-color);\n",
              "    }\n",
              "    20% {\n",
              "      border-color: transparent;\n",
              "      border-left-color: var(--fill-color);\n",
              "      border-top-color: var(--fill-color);\n",
              "    }\n",
              "    30% {\n",
              "      border-color: transparent;\n",
              "      border-left-color: var(--fill-color);\n",
              "      border-top-color: var(--fill-color);\n",
              "      border-right-color: var(--fill-color);\n",
              "    }\n",
              "    40% {\n",
              "      border-color: transparent;\n",
              "      border-right-color: var(--fill-color);\n",
              "      border-top-color: var(--fill-color);\n",
              "    }\n",
              "    60% {\n",
              "      border-color: transparent;\n",
              "      border-right-color: var(--fill-color);\n",
              "    }\n",
              "    80% {\n",
              "      border-color: transparent;\n",
              "      border-right-color: var(--fill-color);\n",
              "      border-bottom-color: var(--fill-color);\n",
              "    }\n",
              "    90% {\n",
              "      border-color: transparent;\n",
              "      border-bottom-color: var(--fill-color);\n",
              "    }\n",
              "  }\n",
              "</style>\n",
              "\n",
              "  <script>\n",
              "    async function quickchart(key) {\n",
              "      const quickchartButtonEl =\n",
              "        document.querySelector('#' + key + ' button');\n",
              "      quickchartButtonEl.disabled = true;  // To prevent multiple clicks.\n",
              "      quickchartButtonEl.classList.add('colab-df-spinner');\n",
              "      try {\n",
              "        const charts = await google.colab.kernel.invokeFunction(\n",
              "            'suggestCharts', [key], {});\n",
              "      } catch (error) {\n",
              "        console.error('Error during call to suggestCharts:', error);\n",
              "      }\n",
              "      quickchartButtonEl.classList.remove('colab-df-spinner');\n",
              "      quickchartButtonEl.classList.add('colab-df-quickchart-complete');\n",
              "    }\n",
              "    (() => {\n",
              "      let quickchartButtonEl =\n",
              "        document.querySelector('#df-7be7d623-9e8c-416e-956c-253406267067 button');\n",
              "      quickchartButtonEl.style.display =\n",
              "        google.colab.kernel.accessAllowed ? 'block' : 'none';\n",
              "    })();\n",
              "  </script>\n",
              "</div>\n",
              "    </div>\n",
              "  </div>\n"
            ]
          },
          "metadata": {},
          "execution_count": 44
        }
      ]
    },
    {
      "cell_type": "markdown",
      "source": [
        "Na podstawie powyższej tabelki, wybieramy największe prawdopodobieństwa, aby przypisać klasę"
      ],
      "metadata": {
        "id": "hQ16MonmWhtU"
      }
    },
    {
      "cell_type": "code",
      "source": [
        "import numpy as np\n",
        "\n",
        "res=np.exp(df) / (np.sum(np.exp(df), axis=0))\n"
      ],
      "metadata": {
        "id": "b6I8vUmXUp4o"
      },
      "execution_count": 51,
      "outputs": []
    },
    {
      "cell_type": "markdown",
      "source": [
        "Softmax zwraca prawdopodobieństwo przynależności do danej klasy\n"
      ],
      "metadata": {
        "id": "-V4bSI6CWCAC"
      }
    },
    {
      "cell_type": "code",
      "source": [
        "np.sum(res,axis=0) # udowodnienie że jest to prawdopodobieństwo, bo suma musi być równa 1"
      ],
      "metadata": {
        "colab": {
          "base_uri": "https://localhost:8080/"
        },
        "id": "Gg2v_6TjVBh_",
        "outputId": "cc72dfe2-a1a3-4056-c41a-bf01bb7c7d28"
      },
      "execution_count": 52,
      "outputs": [
        {
          "output_type": "execute_result",
          "data": {
            "text/plain": [
              "0    1.0\n",
              "1    1.0\n",
              "2    1.0\n",
              "3    1.0\n",
              "4    1.0\n",
              "dtype: float64"
            ]
          },
          "metadata": {},
          "execution_count": 52
        }
      ]
    },
    {
      "cell_type": "markdown",
      "source": [
        "## Tan h - tabgens hiperboliczny\n",
        "\n",
        "### $tanh(x)=\\frac{e^z - e^{-z}}{e^z + e^{-z}}$\n",
        "\n"
      ],
      "metadata": {
        "id": "OpwPBinpWv7R"
      }
    },
    {
      "cell_type": "code",
      "source": [
        "def tanh(x):\n",
        "  return (np.exp(x)-np.exp(-x)) / (np.exp(x)+np.exp(-x))"
      ],
      "metadata": {
        "id": "jr_YCiwEcQZL"
      },
      "execution_count": 53,
      "outputs": []
    },
    {
      "cell_type": "code",
      "source": [
        "for i in [-2,-1,0,1,2]:\n",
        "  print(tanh(i)) # funkcja jest symetryczna, gdy nie sprawda się ReLU, Sigmoid to czasem pomaga tabgens hiperboliczny"
      ],
      "metadata": {
        "colab": {
          "base_uri": "https://localhost:8080/"
        },
        "id": "6Zy38Z3TcrIZ",
        "outputId": "b8a369df-dda3-494a-d3a7-098c12ba0a79"
      },
      "execution_count": 55,
      "outputs": [
        {
          "output_type": "stream",
          "name": "stdout",
          "text": [
            "-0.964027580075817\n",
            "-0.7615941559557649\n",
            "0.0\n",
            "0.7615941559557649\n",
            "0.964027580075817\n"
          ]
        }
      ]
    },
    {
      "cell_type": "code",
      "source": [
        "data=np.arange(-5,5, 0.1)\n",
        "tanh_data = [tanh(x) for x in data]\n",
        "\n",
        "plt.plot(data,tanh_data, \"c\")\n",
        "plt.title(\"Tanh Function\")"
      ],
      "metadata": {
        "colab": {
          "base_uri": "https://localhost:8080/",
          "height": 474
        },
        "id": "Pwmeblv6c8RS",
        "outputId": "05f2ede3-5a7c-4980-a34b-77d9653dd5ed"
      },
      "execution_count": 60,
      "outputs": [
        {
          "output_type": "execute_result",
          "data": {
            "text/plain": [
              "Text(0.5, 1.0, 'Tanh Function')"
            ]
          },
          "metadata": {},
          "execution_count": 60
        },
        {
          "output_type": "display_data",
          "data": {
            "text/plain": [
              "<Figure size 640x480 with 1 Axes>"
            ],
            "image/png": "[encoded data removed]"
          },
          "metadata": {}
        }
      ]
    },
    {
      "cell_type": "markdown",
      "source": [
        "Przetwarzanie obrazów najczęściej ReLU jako pierwsza funkcja, Sigmoid na końcu, ostatnia warstwa gdzy chcemy uzyskać prawdopodobieństwo przynależności do klasy w przypadku problemu binarnego, Softmax - gdy wiele klas, wiele wymiarow, rozszerzenie sigmoid tak naprawdę, Tangens hiperboliczny -\n",
        "\n",
        "To są podstawowe funkcje aktywacji, jest o wiele więcej"
      ],
      "metadata": {
        "id": "CZPOJhZ4eJsh"
      }
    }
  ]
}